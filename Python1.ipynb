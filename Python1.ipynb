{
 "cells": [
  {
   "cell_type": "markdown",
   "id": "9dcaaa8e",
   "metadata": {},
   "source": [
    "## 1. In the below elements which of them are values or an expression? eg:- values can be integer or string and expressions will be mathematical operators.\n",
    "*\n",
    "\n",
    "'hello'\n",
    "\n",
    "-87.8\n",
    "\n",
    "-\n",
    "\n",
    "/\n",
    "\n",
    "+\n",
    "\n",
    "6\n"
   ]
  },
  {
   "cell_type": "markdown",
   "id": "3159bb29",
   "metadata": {},
   "source": [
    "### Answer\n",
    "values: -87.8 , 'hello', 6\n",
    "\n",
    "mathematical operators: * , + , - , /\n"
   ]
  },
  {
   "cell_type": "markdown",
   "id": "29952303",
   "metadata": {},
   "source": [
    "## 2.What is the difference between string and variable?"
   ]
  },
  {
   "cell_type": "markdown",
   "id": "d73a8c55",
   "metadata": {},
   "source": [
    "### Answer\n",
    "\n",
    "String is an data type.\n",
    "variable is a place where we can store a data in a program."
   ]
  },
  {
   "cell_type": "markdown",
   "id": "e92b9b47",
   "metadata": {},
   "source": [
    "## 3.Describe three different data types."
   ]
  },
  {
   "cell_type": "markdown",
   "id": "4fe12a67",
   "metadata": {},
   "source": [
    "## Answer\n",
    "String\n",
    "\n",
    "Integers\n",
    "\n",
    "Float"
   ]
  },
  {
   "cell_type": "markdown",
   "id": "3b49d7dc",
   "metadata": {},
   "source": [
    "## 4. What is an expression made up of? What do all expressions do?"
   ]
  },
  {
   "cell_type": "markdown",
   "id": "1d42f7da",
   "metadata": {},
   "source": [
    "## Answer\n",
    "An expression is made up of operators and operands.\n",
    "The expression in Python produces some value after being interpreted by the Python interpreter.\n",
    "In all expressions operators perform operation on the operands and gives some values.\n"
   ]
  },
  {
   "cell_type": "markdown",
   "id": "994261ce",
   "metadata": {},
   "source": [
    "## 5. This assignment statements, like spam = 10. What is the difference between an expression and a statement?\n"
   ]
  },
  {
   "cell_type": "markdown",
   "id": "ef898f0c",
   "metadata": {},
   "source": [
    "## Answer\n",
    "An expression is made up of operators and operands.Expression is used for producing a value.\n",
    "\n",
    "Staetment is for displaying values.\n",
    "\n",
    "here, spam=10 is an statement as it displays a value.\n",
    "\n",
    "10+20 is an example for expression"
   ]
  },
  {
   "cell_type": "markdown",
   "id": "f0ab3346",
   "metadata": {},
   "source": [
    "## 6. After running the following code, what does the variable bacon contain?\n",
    "bacon = 22\n",
    "\n",
    "bacon + 1"
   ]
  },
  {
   "cell_type": "markdown",
   "id": "f4327b5a",
   "metadata": {},
   "source": [
    "## Answer\n",
    "23"
   ]
  },
  {
   "cell_type": "markdown",
   "id": "d6dfbcb8",
   "metadata": {},
   "source": [
    "## 7. What should the values of the following two terms be?\n",
    "'spam'+'spamspam'\n",
    "\n",
    "'spam'*3"
   ]
  },
  {
   "cell_type": "markdown",
   "id": "d761062f",
   "metadata": {},
   "source": [
    "## Answer\n",
    "\n",
    "while running 'spam'+'spamspam' \n",
    "we get answer as 'spamspamspam'. \n",
    "\n",
    "while running 'spam' * 3\n",
    "we  get answer as 'spamspamspam'"
   ]
  },
  {
   "cell_type": "markdown",
   "id": "8ddc6c34",
   "metadata": {},
   "source": [
    "##  8. Why is eggs a valid variable name while 100 is invalid?"
   ]
  },
  {
   "cell_type": "markdown",
   "id": "3a83ec47",
   "metadata": {},
   "source": [
    "## Answer\n",
    "according to the rules of python variable name should not start with numbers and variable name can start with an alphabet that is also if that starting alphabet is in small letter then more preferable.\n",
    "So eggs is a valid variable name while 100 is invalid"
   ]
  },
  {
   "cell_type": "markdown",
   "id": "58ed1cc1",
   "metadata": {},
   "source": [
    "## 9. What three functions can be used to get the integer, floating-point number, or string version of a value?\n"
   ]
  },
  {
   "cell_type": "markdown",
   "id": "d9a8cb47",
   "metadata": {},
   "source": [
    "## Answer\n",
    "int()\n",
    "\n",
    "float()\n",
    "\n",
    "str()"
   ]
  },
  {
   "cell_type": "code",
   "execution_count": 6,
   "id": "5f69c9d7",
   "metadata": {},
   "outputs": [
    {
     "data": {
      "text/plain": [
       "2"
      ]
     },
     "execution_count": 6,
     "metadata": {},
     "output_type": "execute_result"
    }
   ],
   "source": [
    "int(2.0)"
   ]
  },
  {
   "cell_type": "code",
   "execution_count": 7,
   "id": "27eea074",
   "metadata": {},
   "outputs": [
    {
     "data": {
      "text/plain": [
       "2.0"
      ]
     },
     "execution_count": 7,
     "metadata": {},
     "output_type": "execute_result"
    }
   ],
   "source": [
    "float(2)"
   ]
  },
  {
   "cell_type": "code",
   "execution_count": 8,
   "id": "58a25907",
   "metadata": {},
   "outputs": [
    {
     "data": {
      "text/plain": [
       "'2.0'"
      ]
     },
     "execution_count": 8,
     "metadata": {},
     "output_type": "execute_result"
    }
   ],
   "source": [
    "str(2.0)"
   ]
  },
  {
   "cell_type": "markdown",
   "id": "a978f3c1",
   "metadata": {},
   "source": [
    "## 10. Why does this expression cause an error? How can you fix it?  'I have eaten'+99+'burritos'"
   ]
  },
  {
   "cell_type": "markdown",
   "id": "ff3f72ec",
   "metadata": {},
   "source": [
    "## Answer\n",
    "concatenation is possible only when the data types involved are same.\n",
    "\n",
    "Here, 99 is integer and'I have eaten' and 'burritos' both are string.\n",
    "so only we are getting error.\n",
    "\n",
    " To fix it, if we convert 99 integer to a string as '99'. error will be fixed."
   ]
  },
  {
   "cell_type": "code",
   "execution_count": 10,
   "id": "9d9d812d",
   "metadata": {},
   "outputs": [
    {
     "data": {
      "text/plain": [
       "'I have eaten 99 burritos'"
      ]
     },
     "execution_count": 10,
     "metadata": {},
     "output_type": "execute_result"
    }
   ],
   "source": [
    "'I have eaten' + ' 99 '+ 'burritos'"
   ]
  },
  {
   "cell_type": "code",
   "execution_count": null,
   "id": "72145e1a",
   "metadata": {},
   "outputs": [],
   "source": []
  }
 ],
 "metadata": {
  "kernelspec": {
   "display_name": "Python 3 (ipykernel)",
   "language": "python",
   "name": "python3"
  },
  "language_info": {
   "codemirror_mode": {
    "name": "ipython",
    "version": 3
   },
   "file_extension": ".py",
   "mimetype": "text/x-python",
   "name": "python",
   "nbconvert_exporter": "python",
   "pygments_lexer": "ipython3",
   "version": "3.9.13"
  }
 },
 "nbformat": 4,
 "nbformat_minor": 5
}
